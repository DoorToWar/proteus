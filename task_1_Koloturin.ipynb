{
 "cells": [
  {
   "cell_type": "code",
   "execution_count": 154,
   "id": "1a1849e3-07e4-4a65-a2bf-6fc7aaab1d6c",
   "metadata": {},
   "outputs": [],
   "source": [
    "import pandas as pd\n",
    "import numpy as np\n",
    "from sklearn.linear_model import LinearRegression\n",
    "from sklearn.model_selection import train_test_split\n",
    "from datetime import datetime\n",
    "from matplotlib import pyplot as plt\n",
    "from sklearn.preprocessing import StandardScaler\n",
    "from sklearn.preprocessing import MinMaxScaler\n",
    "from sklearn.metrics import mean_squared_error"
   ]
  },
  {
   "cell_type": "code",
   "execution_count": 155,
   "id": "00ec6ae9-e633-4fc0-adf5-3e67473d2e43",
   "metadata": {},
   "outputs": [
    {
     "data": {
      "text/html": [
       "<div>\n",
       "<style scoped>\n",
       "    .dataframe tbody tr th:only-of-type {\n",
       "        vertical-align: middle;\n",
       "    }\n",
       "\n",
       "    .dataframe tbody tr th {\n",
       "        vertical-align: top;\n",
       "    }\n",
       "\n",
       "    .dataframe thead th {\n",
       "        text-align: right;\n",
       "    }\n",
       "</style>\n",
       "<table border=\"1\" class=\"dataframe\">\n",
       "  <thead>\n",
       "    <tr style=\"text-align: right;\">\n",
       "      <th></th>\n",
       "      <th>Time</th>\n",
       "      <th>Amount of messages</th>\n",
       "    </tr>\n",
       "  </thead>\n",
       "  <tbody>\n",
       "    <tr>\n",
       "      <th>0</th>\n",
       "      <td>0.0</td>\n",
       "      <td>0.0</td>\n",
       "    </tr>\n",
       "    <tr>\n",
       "      <th>1</th>\n",
       "      <td>1.0</td>\n",
       "      <td>1.0</td>\n",
       "    </tr>\n",
       "    <tr>\n",
       "      <th>2</th>\n",
       "      <td>2.0</td>\n",
       "      <td>0.0</td>\n",
       "    </tr>\n",
       "    <tr>\n",
       "      <th>3</th>\n",
       "      <td>3.0</td>\n",
       "      <td>6.0</td>\n",
       "    </tr>\n",
       "    <tr>\n",
       "      <th>4</th>\n",
       "      <td>4.0</td>\n",
       "      <td>7.0</td>\n",
       "    </tr>\n",
       "    <tr>\n",
       "      <th>...</th>\n",
       "      <td>...</td>\n",
       "      <td>...</td>\n",
       "    </tr>\n",
       "    <tr>\n",
       "      <th>79995</th>\n",
       "      <td>79995.0</td>\n",
       "      <td>4.0</td>\n",
       "    </tr>\n",
       "    <tr>\n",
       "      <th>79996</th>\n",
       "      <td>79996.0</td>\n",
       "      <td>1.0</td>\n",
       "    </tr>\n",
       "    <tr>\n",
       "      <th>79997</th>\n",
       "      <td>79997.0</td>\n",
       "      <td>6.0</td>\n",
       "    </tr>\n",
       "    <tr>\n",
       "      <th>79998</th>\n",
       "      <td>79998.0</td>\n",
       "      <td>3.0</td>\n",
       "    </tr>\n",
       "    <tr>\n",
       "      <th>79999</th>\n",
       "      <td>79999.0</td>\n",
       "      <td>2.0</td>\n",
       "    </tr>\n",
       "  </tbody>\n",
       "</table>\n",
       "<p>80000 rows × 2 columns</p>\n",
       "</div>"
      ],
      "text/plain": [
       "          Time  Amount of messages\n",
       "0          0.0                 0.0\n",
       "1          1.0                 1.0\n",
       "2          2.0                 0.0\n",
       "3          3.0                 6.0\n",
       "4          4.0                 7.0\n",
       "...        ...                 ...\n",
       "79995  79995.0                 4.0\n",
       "79996  79996.0                 1.0\n",
       "79997  79997.0                 6.0\n",
       "79998  79998.0                 3.0\n",
       "79999  79999.0                 2.0\n",
       "\n",
       "[80000 rows x 2 columns]"
      ]
     },
     "execution_count": 155,
     "metadata": {},
     "output_type": "execute_result"
    }
   ],
   "source": [
    "# Путь к файлу\n",
    "path_to_file = 'time_messagees.txt'\n",
    "\n",
    "# Считывается файл\n",
    "df = pd.read_csv(path_to_file, delimiter=',', header = None, names = ['Time','Amount of messages'])\n",
    "# Данные в столбце Time преобразуются в формат timedelta для последующего вычисления общего количества секунд\n",
    "#для обучения модели\n",
    "df['Time'] = pd.to_timedelta(df['Time'])\n",
    "df['Time'] = df['Time'].dt.total_seconds()\n",
    "#Выводится датафрейм\n",
    "df.head(80000)"
   ]
  },
  {
   "cell_type": "code",
   "execution_count": 156,
   "id": "fae1dc47-eaf1-4590-b0ce-6cbd4c8b32a0",
   "metadata": {},
   "outputs": [
    {
     "name": "stdout",
     "output_type": "stream",
     "text": [
      "<class 'pandas.core.frame.DataFrame'>\n",
      "RangeIndex: 86396 entries, 0 to 86395\n",
      "Data columns (total 2 columns):\n",
      " #   Column              Non-Null Count  Dtype  \n",
      "---  ------              --------------  -----  \n",
      " 0   Time                86396 non-null  float64\n",
      " 1   Amount of messages  86396 non-null  float64\n",
      "dtypes: float64(2)\n",
      "memory usage: 1.3 MB\n"
     ]
    }
   ],
   "source": [
    "# Проверяется, есть ли строки  с нулевыми данными\n",
    "df.info()\n",
    "#Т.к. в столбце Amount of messages хранится количество сообщений, что не может быть не целочисленными значением,\n",
    "#эти данные приводятся к типу int\n",
    "df['Amount of messages'] = df['Amount of messages'].astype(int)\n",
    "# то же самое действие производится с столбцом Time\n",
    "df['Time'] = df['Time'].astype(int)"
   ]
  },
  {
   "cell_type": "code",
   "execution_count": 157,
   "id": "ed520ee0-311e-438e-9a1c-80b90dcd7ca0",
   "metadata": {},
   "outputs": [
    {
     "name": "stdout",
     "output_type": "stream",
     "text": [
      "<class 'pandas.core.frame.DataFrame'>\n",
      "RangeIndex: 86396 entries, 0 to 86395\n",
      "Data columns (total 2 columns):\n",
      " #   Column              Non-Null Count  Dtype\n",
      "---  ------              --------------  -----\n",
      " 0   Time                86396 non-null  int32\n",
      " 1   Amount of messages  86396 non-null  int32\n",
      "dtypes: int32(2)\n",
      "memory usage: 675.1 KB\n"
     ]
    }
   ],
   "source": [
    "df.info() # Проверка смены типа данных"
   ]
  },
  {
   "cell_type": "code",
   "execution_count": 158,
   "id": "cfc6b23b-0e08-4572-94b5-024e0ad168d5",
   "metadata": {},
   "outputs": [],
   "source": [
    "# Создаётся модель линейной регрессии\n",
    "model = LinearRegression()\n",
    "\n",
    "# данные стандартизируются\n",
    "scaler = MinMaxScaler()\n",
    "x_scaled = scaler.fit_transform(np.array( df['Time']).reshape(-1,1))\n",
    "y_scaled = scaler.fit_transform(np.array(df['Amount of messages']).reshape(-1, 1))\n",
    "\n",
    "# создаются тренировочные и валидационные выборки\n",
    "X_train, X_valid, y_train, y_valid = train_test_split(x_scaled,y_scaled,test_size = 0.25, random_state = 0)\n",
    "\n",
    "# обучается модель\n",
    "model = LinearRegression()\n",
    "model.fit(X_train, y_train)\n",
    "\n",
    "# предсказываются значения\n",
    "pred = model.predict(X_valid)\n"
   ]
  },
  {
   "cell_type": "code",
   "execution_count": 159,
   "id": "4d2aeef1-5d56-4d00-9fa2-3f7399863099",
   "metadata": {},
   "outputs": [
    {
     "data": {
      "image/png": "[encoded data removed]",
      "text/plain": [
       "<Figure size 640x480 with 1 Axes>"
      ]
     },
     "metadata": {},
     "output_type": "display_data"
    }
   ],
   "source": [
    "# Построение графика\n",
    "plt.plot(X_valid, pred, label='Модель линейной регрессии', color = 'r')\n",
    "plt.scatter(x_scaled, y_scaled, color='b', label='Данные', s = 1)\n",
    "plt.xlabel('Время')\n",
    "plt.ylabel('Целевые переменные (стандартизованные)')\n",
    "plt.legend()\n",
    "plt.show()"
   ]
  },
  {
   "cell_type": "markdown",
   "id": "7742d27a-0f4f-4be3-aa1c-c2f412e5dde8",
   "metadata": {},
   "source": [
    "По данному графику можно сделать вывод, что модель достаточно хорошо предсказывает значения, однако она не учитывает выбросы, а также \n",
    "временные спады кол-ва сообщений, судя по графику прямой, можно сказать, что количество сообщений линейно возрастает со временем"
   ]
  },
  {
   "cell_type": "code",
   "execution_count": 160,
   "id": "9d5a3b68-7aa7-425a-b2c6-687f79ba4783",
   "metadata": {},
   "outputs": [
    {
     "name": "stdout",
     "output_type": "stream",
     "text": [
      "0.00801630634994638\n"
     ]
    }
   ],
   "source": [
    "# вывод mse \n",
    "print(mean_squared_error(y_valid, pred))"
   ]
  },
  {
   "cell_type": "markdown",
   "id": "ae9bd016-7df6-4426-9464-d933efa2181b",
   "metadata": {},
   "source": [
    "По данному показателю значения средней квадратичной ошибки можно сделать вывод,что модель достаточно точно предсказывает значения, \n",
    "однако одной лишь метрики MSE может быть мало для оценки качества предсказания модели"
   ]
  }
 ],
 "metadata": {
  "kernelspec": {
   "display_name": "Python 3 (ipykernel)",
   "language": "python",
   "name": "python3"
  },
  "language_info": {
   "codemirror_mode": {
    "name": "ipython",
    "version": 3
   },
   "file_extension": ".py",
   "mimetype": "text/x-python",
   "name": "python",
   "nbconvert_exporter": "python",
   "pygments_lexer": "ipython3",
   "version": "3.12.0"
  }
 },
 "nbformat": 4,
 "nbformat_minor": 5
}
